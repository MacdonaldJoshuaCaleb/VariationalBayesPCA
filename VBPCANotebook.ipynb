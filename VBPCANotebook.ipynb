{
 "cells": [
  {
   "cell_type": "code",
   "execution_count": 1,
   "id": "989170f5-519c-485c-853c-eca1344a3495",
   "metadata": {},
   "outputs": [
    {
     "data": {
      "text/plain": [
       "array([[nan,  3.,  1., ...,  2.,  2.,  2.],\n",
       "       [ 3., nan,  1., ..., nan,  1.,  3.],\n",
       "       [ 2.,  4.,  3., ..., nan,  3.,  1.],\n",
       "       ...,\n",
       "       [ 2.,  4.,  3., ...,  2., nan,  2.],\n",
       "       [ 2.,  3.,  4., ...,  2.,  1.,  3.],\n",
       "       [ 3.,  3.,  1., ...,  2.,  2.,  2.]])"
      ]
     },
     "execution_count": 1,
     "metadata": {},
     "output_type": "execute_result"
    }
   ],
   "source": [
    "# variational bayesian principal component analysis \n",
    "# based on Ilin & Raiko 2010 and associated code\n",
    "# for dxn data matrix assume Y assume that row j:\n",
    "# y_j = W*x_j + m + e_j, with\n",
    "# p(x_j) = N(x_j; 0, I)\n",
    "# p(e_j) = N(e_j; 0, v_yI)\n",
    "# p(m) = N(m; 0, v_mI)\n",
    "# p(W) = N(w_:k; 0, v_wkI)\n",
    "\n",
    "# if data is missing instead consider \n",
    "# y_ij = w_i^Tx_j + m_i + e_ij for all i,j in O\n",
    "# see paper for details on update rules \n",
    "\n",
    "# packages used\n",
    "import numpy as np\n",
    "import pandas as pd\n",
    "from numpy.random import randn\n",
    "from scipy.linalg import orth, subspace_angles\n",
    "from numpy.linalg import inv, eig\n",
    "import matplotlib.pyplot as plt\n",
    "\n",
    "# read in the data\n",
    "df = pd.read_csv(r'PulotuCleaned.csv')\n",
    "dfAll = pd.read_csv(r'PulotuCurrent.csv')\n",
    "del dfAll['Culture ']\n",
    "del dfAll['Island_type']\n",
    "del dfAll['Pre-Austronesian_population']\n",
    "del dfAll['Distance_to_closest_landmass_inhabited_by_a_different_culture_(km)']\n",
    "del dfAll['Latitude']\n",
    "del dfAll['Longitude']\n",
    "del dfAll['Island_Size_(km²)']\n",
    "del dfAll['Distance_to_African_or_Asian_mainland_(km)_']\n",
    "del df['Number_of_islands_inhabited_by_culture']\n",
    "del df['Maximum_elevation_(meters)']\n",
    "\n",
    "names1 = np.array(dfAll.columns)\n",
    "names2 = np.array(df.columns)\n",
    "\n",
    "for j in range(0,len(names2)):\n",
    "    for k in range(0,len(names1)):\n",
    "        if names1[k] == names2[j]:\n",
    "            dfAll[names1[k]] = df[names2[j]]\n",
    "            break\n",
    "dfAll.values"
   ]
  },
  {
   "cell_type": "code",
   "execution_count": 2,
   "id": "6fed0a73-bcd5-421e-9078-0cfe5d478954",
   "metadata": {},
   "outputs": [],
   "source": [
    "def rmempty(X):\n",
    "        # removes totally empty columns (rows) from dta matrix X.  These columns and rows do not affect the found solution \n",
    "        data = X.copy()\n",
    "        n1x, n2x = data.shape\n",
    "        Ic = np.zeros([n2x,1])\n",
    "        Ir = np.zeros([n1x,1])\n",
    "        # for columns\n",
    "        for j in range(0,n2x):\n",
    "            miss = np.isnan(data[:,j])\n",
    "            idx = np.where(miss == False)\n",
    "            idx = idx[0]\n",
    "            Ic[j] = len(idx)\n",
    "        idxc = np.where(Ic > 0)\n",
    "        idxc = idxc[0]\n",
    "        data = data[:,idxc]\n",
    "        for i in range(0,n1x):\n",
    "            miss = np.isnan(data[i,:])\n",
    "            idx = np.where(miss == False)\n",
    "            idx = idx[0]\n",
    "            Ir[i] = len(idx)\n",
    "        idxr = np.where(Ir > 0)\n",
    "        idxr = idxr[0]\n",
    "        data = data[idxr,:]\n",
    "        return data"
   ]
  },
  {
   "cell_type": "code",
   "execution_count": 3,
   "id": "07b97617-877b-45ce-852e-28cce6901b4a",
   "metadata": {},
   "outputs": [],
   "source": [
    "def SubtractMu(Mu, X, M):\n",
    "    n2 = X.shape[1]\n",
    "    X = X - np.multiply(np.tile(Mu, (1, n2)),M)\n",
    "    return X"
   ]
  },
  {
   "cell_type": "code",
   "execution_count": 4,
   "id": "dcd691b5-0179-4f8a-bf21-d0d1c716af27",
   "metadata": {},
   "outputs": [],
   "source": [
    "def InitParams(n1, n2, ncomp, nobscomb):\n",
    "    # opts.init -> random\n",
    "    A = orth(randn(n1,ncomp))\n",
    "    Av = []\n",
    "    for i in range(0,n1):\n",
    "        Av.append(np.eye(ncomp))\n",
    "    Muv = np.ones([n1,1])\n",
    "    V = 1\n",
    "    S = randn(ncomp,n2)\n",
    "    Sv = []\n",
    "    for j in range(0,nobscomb):\n",
    "        Sv.append(np.eye(ncomp))\n",
    "    return A, S, V, Av, Sv, Muv\n",
    "    "
   ]
  },
  {
   "cell_type": "code",
   "execution_count": 5,
   "id": "62020edb-8c87-43cb-8d7d-410411995d45",
   "metadata": {},
   "outputs": [],
   "source": [
    "def compute_rms(X, A, S, M, ndata):\n",
    "    errMx = np.multiply((X - np.matmul(A,S)),M)\n",
    "    rms = np.sqrt(np.sum(errMx**2))/ndata\n",
    "    return rms, errMx\n",
    "    "
   ]
  },
  {
   "cell_type": "code",
   "execution_count": 6,
   "id": "35ade290-23f5-4ff5-9c7f-a139941bba21",
   "metadata": {},
   "outputs": [],
   "source": [
    "def RotateToPCA(A, Av, S, Sv):\n",
    "    n1 = A.shape[0]\n",
    "    n2 = S.shape[1]\n",
    "    mS = np.mean(S, axis=1)\n",
    "    mSS = np.zeros([S.shape[0],1])\n",
    "    for j in range(0,mSS.shape[0]):\n",
    "        mSS[j] = mS[j]\n",
    "    mS = mSS\n",
    "    dMu = np.matmul(A,mS)\n",
    "    S = S - np.tile(mS,(1,n2))\n",
    "    covS = np.cov(S)\n",
    "    for j in range(0,n2):\n",
    "        covS = covS + Sv[j]\n",
    "    D, VS = eig(covS)\n",
    "    D = np.diag(D)\n",
    "    RA = np.matmul(VS,np.sqrt(D))\n",
    "    A = np.matmul(A,RA)\n",
    "    covA = np.cov(A.T)\n",
    "    for i in range(0,n1):\n",
    "        Av[i] = np.matmul(np.matmul(RA.T,Av[i]),RA)\n",
    "        covA = covA + Av[i]\n",
    "    DA, VA = eig(covA)\n",
    "    A = np.matmul(A,VA)\n",
    "    for i in range(0,n1):\n",
    "        Av[i] = np.matmul(np.matmul(VA.T,Av[i]),VA)\n",
    "    R = np.matmul(np.matmul(VA.T,np.diag(1/np.diag(np.sqrt(D)))),VS.T)\n",
    "    S = np.matmul(R,S)\n",
    "    for j in range(0,len(Sv)):\n",
    "        Sv[j] = np.matmul(np.matmul(R,Sv[j]),R.T)\n",
    "    return dMu, A, Av, S, Sv\n",
    "    \n",
    "    \n",
    "    \n",
    "\n",
    " "
   ]
  },
  {
   "cell_type": "code",
   "execution_count": 7,
   "id": "9fdf6617-d897-40b8-9193-a66e8f515ecf",
   "metadata": {},
   "outputs": [],
   "source": [
    "def pca_full(X, ncomp, maxiters):\n",
    "    use_prior = 1\n",
    "    use_postvar = 1\n",
    "    data = X.copy()\n",
    "    data = data.T\n",
    "    n1x, n2x = data.shape\n",
    "    # remove totally empty rows or columns\n",
    "    data = rmempty(data)\n",
    "    n1, n2 = data.shape\n",
    "    # create missing values matrix \n",
    "    M = np.isnan(data)\n",
    "    idxr, idxc = np.where(M == True)\n",
    "    idxr0, idxc0 = np.where(data == 0)\n",
    "    eps = np.finfo(float).eps\n",
    "    data[idxr0, idxc0] = eps\n",
    "    data[idxr, idxc] = 0\n",
    "    M2 = np.zeros(M.shape)\n",
    "    for i in range (0,M.shape[0]):\n",
    "        for j in range (0,M.shape[1]):\n",
    "            if M[i,j] == False:\n",
    "                M2[i,j] = 1\n",
    "    Nobs_i = np.zeros([n1,1])\n",
    "    for j in range(0,n1):\n",
    "        temp = M[j,:]\n",
    "        idx = np.where(temp == False)\n",
    "        idx = idx[0]\n",
    "        Nobs_i[j] = len(idx)\n",
    "    print(M[0,:].shape)\n",
    "    ndata = int(np.sum(Nobs_i))\n",
    "    earlystop = 0 # from opts in original code - come back to this \n",
    "    IX, JX = np.nonzero(data) \n",
    "    nobscomb = n2;\n",
    "    # initialize model \n",
    "    A, S, V, Av, Sv, Muv = InitParams(n1, n2, ncomp, nobscomb)\n",
    "    Va = 1000*np.ones([1,ncomp])\n",
    "    Vmu = 1000\n",
    "    Mu = np.zeros([n1,1])\n",
    "    # if don't want to include bias comment out for loop below\n",
    "    for j in range(0,n1):\n",
    "        temp = data[j,:]\n",
    "        Mu[j] = np.divide(np.sum(temp), Nobs_i[j])\n",
    "    data = SubtractMu(Mu, data, M2)\n",
    "    rms, errMx = compute_rms(data, A, S, M2, ndata)\n",
    "    print(\"rms : %f\" % (rms))\n",
    "    Aold = A\n",
    "    \n",
    "    # parameters of prior for variance params \n",
    "    hpVa = 0.001\n",
    "    hpVb = 0.001\n",
    "    hpV = 0.001\n",
    "    \n",
    "    for its in range(0,maxiters):\n",
    "        # burn in, prior is not updated at the beginning of learning to avoid killing sources\n",
    "        if its > 100:\n",
    "            # update Va, Vmu\n",
    "            Vmu = np.sum(Mu**2)+np.sum(Muv)\n",
    "            Vmu = (Vmu + 2*hpVa)/(n1+2*hpVb)\n",
    "            Va = np.sum(A**2,axis=0)\n",
    "            for i in range(0,n1):\n",
    "                Va = Va+np.diag(Av[i])\n",
    "            Va = (Va+2*hpVa)/(n1+2*hpVb)\n",
    "        \n",
    "        # update Mu\n",
    "        dMu = np.multiply(np.sum(errMx,axis=1),1/Nobs_i.T).T \n",
    "        Muv = np.divide(V, Nobs_i + V/Vmu)\n",
    "        th = np.divide(1,1+np.divide(V,Nobs_i)/Vmu)\n",
    "        Mu_old = Mu\n",
    "        Mu = np.multiply(th,Mu+dMu)\n",
    "        dMu = Mu - Mu_old\n",
    "        data = SubtractMu(dMu, data, M2)\n",
    "        \n",
    "        # update S\n",
    "        for j in range(0,n2):\n",
    "            A_j = np.multiply(np.tile(M2[:,j],(ncomp,1)).T,A)\n",
    "            Psi = np.matmul(A_j.T,A_j) + V*np.eye(ncomp)\n",
    "            idx = np.where(M2[:,j] > 0)\n",
    "            idx = idx[0]\n",
    "            for i in range(0,len(idx)):\n",
    "                Psi = Psi + Av[idx[i]]\n",
    "            invPsi = inv(Psi)\n",
    "            S[:,j] = np.matmul(np.matmul(invPsi,A_j.T),data[:,j])\n",
    "            Sv[j] = V*invPsi\n",
    "        \n",
    "        # rotate to PCA\n",
    "        dMu, A, Av, S, Sv = RotateToPCA(A, Av, S, Sv)\n",
    "        data = SubtractMu(dMu, data, M2)\n",
    "        \n",
    "        # update A\n",
    "        for i in range(0,n1):\n",
    "            S_i = np.multiply(np.tile(M2[i,:],(ncomp,1)),S)\n",
    "            Phi = np.matmul(S_i,S_i.T) + np.diag(V/Va)\n",
    "            idx = np.where(M2[i,:] > 0)\n",
    "            idx = idx[0]\n",
    "            for j in range(0,len(idx)):\n",
    "                Phi = Phi + Sv[j]\n",
    "            invPhi = inv(Phi)\n",
    "            A[i,:] = np.matmul(np.matmul(data[i,:],S_i.T),invPhi)\n",
    "            Av[i] = V*invPhi\n",
    "        rms, errMx = compute_rms(data, A, S, M2, ndata)\n",
    "        print(rms)\n",
    "        \n",
    "        # update V\n",
    "        sXv = 0\n",
    "        for r in range(0, ndata):\n",
    "            sXv = sXv + np.matmul(np.matmul(A[IX[r],:],Sv[JX[r]]),A[IX[r],:].T)\n",
    "            sXv = sXv + np.matmul(np.matmul(S[:,JX[r]].T,Av[IX[r]]),A[IX[r],:]) + np.sum(np.multiply(Sv[JX[r]],Av[IX[r]]))\n",
    "        sXv = sXv + np.sum(Muv[IX])\n",
    "        sXv = sXv + (rms**2)*ndata\n",
    "        V = (sXv + 2*hpV)/(ndata+2*hpV)\n",
    "        \n",
    "        angleA = subspace_angles(A, Aold)\n",
    "        angleA = angleA[0]\n",
    "        Aold = A\n",
    "    dMu, A, Av, S, Sv = RotateToPCA(A, Av, S, Sv)\n",
    "    Mu = Mu+dMu\n",
    "    cv = {\n",
    "        \"A\": Av,\n",
    "        \"S\": Sv,\n",
    "        \"Mu\": Muv\n",
    "            }\n",
    "    hp = {\n",
    "        \"Va\": Va,\n",
    "        \"Vmu\": Vmu,\n",
    "            }\n",
    "    Xrec = np.matmul(A,S)+np.tile(Mu,(1,dfAll.values.shape[0]))\n",
    "    return A, S, Mu, V, Xrec, cv, hp\n",
    "    \n",
    "    \n",
    "      \n",
    "    \n",
    "\n",
    "\n",
    "\n"
   ]
  },
  {
   "cell_type": "code",
   "execution_count": 8,
   "id": "7b9d3128-c017-4496-925b-2975c042d676",
   "metadata": {},
   "outputs": [
    {
     "name": "stdout",
     "output_type": "stream",
     "text": [
      "(116,)\n",
      "rms : 0.011307\n",
      "0.010793237612719078\n",
      "0.010086383354118591\n",
      "0.009717558420823776\n",
      "0.00963603296355185\n",
      "0.009606906165434992\n",
      "0.009594839418506343\n",
      "0.009588846575432986\n",
      "0.009585434480168267\n",
      "0.00958333021584616\n",
      "0.009581977144649933\n",
      "0.009581088768513527\n",
      "0.009580499641435187\n",
      "0.009580107245991992\n",
      "0.009579845493030538\n",
      "0.009579670878020152\n",
      "0.009579554467375179\n",
      "0.009579476932102792\n",
      "0.00957942534176676\n",
      "0.009579391048100667\n",
      "0.009579368272369698\n",
      "0.009579353158052941\n",
      "0.009579343134798518\n",
      "0.009579336491605198\n",
      "0.009579332090794325\n",
      "0.009579329176648332\n",
      "0.009579327247599766\n",
      "0.00957932597100094\n",
      "0.009579325126369031\n",
      "0.009579324567639866\n",
      "0.009579324198090646\n"
     ]
    }
   ],
   "source": [
    "A, S, Mu, V, Xrec, cv, hp = pca_full(dfAll.values,2,30)\n",
    "\n"
   ]
  },
  {
   "cell_type": "code",
   "execution_count": 9,
   "id": "eb4549e5-9c48-4ee9-921e-e7996cdd0396",
   "metadata": {},
   "outputs": [
    {
     "data": {
      "text/plain": [
       "Text(0, 0.5, 'PC 2')"
      ]
     },
     "execution_count": 9,
     "metadata": {},
     "output_type": "execute_result"
    },
    {
     "data": {
      "image/png": "[encoded data removed]",
      "text/plain": [
       "<Figure size 432x288 with 1 Axes>"
      ]
     },
     "metadata": {
      "needs_background": "light"
     },
     "output_type": "display_data"
    }
   ],
   "source": [
    "plt.scatter(S[0,:], S[1,:])\n",
    "plt.xlabel('PC 1')\n",
    "plt.ylabel('PC 2')"
   ]
  },
  {
   "cell_type": "code",
   "execution_count": 10,
   "id": "1c4c439f-0d51-4bf4-a4c2-0e53305f3c80",
   "metadata": {},
   "outputs": [
    {
     "data": {
      "text/plain": [
       "array([[2.54767594, 3.34286498, 2.82935875, ..., 1.9126312 , 2.31702181,\n",
       "        2.39613151],\n",
       "       [3.16389796, 2.96726776, 2.76816026, ..., 3.35684774, 2.86805139,\n",
       "        3.07129758],\n",
       "       [1.94770201, 1.23179924, 2.42185233, ..., 2.43926444, 2.94291004,\n",
       "        2.374431  ],\n",
       "       ...,\n",
       "       [1.71413538, 1.57161465, 1.66033409, ..., 1.82831889, 1.75188712,\n",
       "        1.73997391],\n",
       "       [2.27655626, 2.50119317, 2.20519654, ..., 2.11378513, 2.04806055,\n",
       "        2.17353904],\n",
       "       [1.93337272, 1.95347353, 2.21609058, ..., 1.88696212, 2.22578767,\n",
       "        2.0394764 ]])"
      ]
     },
     "execution_count": 10,
     "metadata": {},
     "output_type": "execute_result"
    }
   ],
   "source": [
    "Xrec"
   ]
  },
  {
   "cell_type": "code",
   "execution_count": 15,
   "id": "c809eb19-94c8-40db-b31b-b8b6bc21c8c6",
   "metadata": {},
   "outputs": [
    {
     "data": {
      "text/plain": [
       "(46, 1)"
      ]
     },
     "execution_count": 15,
     "metadata": {},
     "output_type": "execute_result"
    }
   ],
   "source": [
    "np.shape(cv['Mu'])"
   ]
  },
  {
   "cell_type": "code",
   "execution_count": 16,
   "id": "c9fff5e7-267d-4305-9088-8888cf60b531",
   "metadata": {},
   "outputs": [
    {
     "data": {
      "text/plain": [
       "array([[9.59511518e-07],\n",
       "       [1.00897087e-06],\n",
       "       [8.81713287e-07],\n",
       "       [8.66107742e-07],\n",
       "       [8.81713287e-07],\n",
       "       [8.51044998e-07],\n",
       "       [8.58510305e-07],\n",
       "       [8.66107742e-07],\n",
       "       [8.81713287e-07],\n",
       "       [8.89728862e-07],\n",
       "       [9.06205322e-07],\n",
       "       [1.35930798e-06],\n",
       "       [8.66107742e-07],\n",
       "       [8.81713287e-07],\n",
       "       [8.81713287e-07],\n",
       "       [8.73840847e-07],\n",
       "       [8.66107742e-07],\n",
       "       [8.81713287e-07],\n",
       "       [8.73840847e-07],\n",
       "       [9.14674531e-07],\n",
       "       [8.66107742e-07],\n",
       "       [8.66107742e-07],\n",
       "       [9.41059373e-07],\n",
       "       [9.14674531e-07],\n",
       "       [1.04117207e-06],\n",
       "       [1.09966489e-06],\n",
       "       [1.09966489e-06],\n",
       "       [1.04117207e-06],\n",
       "       [1.28776546e-06],\n",
       "       [8.81713287e-07],\n",
       "       [8.58510305e-07],\n",
       "       [8.66107742e-07],\n",
       "       [8.73840847e-07],\n",
       "       [8.81713287e-07],\n",
       "       [9.23303536e-07],\n",
       "       [9.32096903e-07],\n",
       "       [9.41059373e-07],\n",
       "       [1.04117207e-06],\n",
       "       [1.01948099e-06],\n",
       "       [9.78701748e-07],\n",
       "       [1.03021237e-06],\n",
       "       [1.28776546e-06],\n",
       "       [1.19353872e-06],\n",
       "       [9.88587624e-07],\n",
       "       [8.89728862e-07],\n",
       "       [8.89728862e-07]])"
      ]
     },
     "execution_count": 16,
     "metadata": {},
     "output_type": "execute_result"
    }
   ],
   "source": [
    "cv['Mu']"
   ]
  },
  {
   "cell_type": "code",
   "execution_count": null,
   "id": "532074bd-26bb-4c14-af80-06d69bc56730",
   "metadata": {},
   "outputs": [],
   "source": []
  }
 ],
 "metadata": {
  "kernelspec": {
   "display_name": "Python 3 (ipykernel)",
   "language": "python",
   "name": "python3"
  },
  "language_info": {
   "codemirror_mode": {
    "name": "ipython",
    "version": 3
   },
   "file_extension": ".py",
   "mimetype": "text/x-python",
   "name": "python",
   "nbconvert_exporter": "python",
   "pygments_lexer": "ipython3",
   "version": "3.9.12"
  }
 },
 "nbformat": 4,
 "nbformat_minor": 5
}
