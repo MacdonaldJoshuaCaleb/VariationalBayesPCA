{
 "cells": [
  {
   "cell_type": "code",
   "execution_count": 1,
   "id": "989170f5-519c-485c-853c-eca1344a3495",
   "metadata": {},
   "outputs": [
    {
     "data": {
      "text/plain": [
       "array([[nan,  3.,  1., ...,  2.,  2.,  2.],\n",
       "       [ 3., nan,  1., ..., nan,  1.,  3.],\n",
       "       [ 2.,  4.,  3., ..., nan,  3.,  1.],\n",
       "       ...,\n",
       "       [ 2.,  4.,  3., ...,  2., nan,  2.],\n",
       "       [ 2.,  3.,  4., ...,  2.,  1.,  3.],\n",
       "       [ 3.,  3.,  1., ...,  2.,  2.,  2.]])"
      ]
     },
     "execution_count": 1,
     "metadata": {},
     "output_type": "execute_result"
    }
   ],
   "source": [
    "# variational bayesian principal component analysis \n",
    "# based on Ilin & Raiko 2010 and associated code\n",
    "# for dxn data matrix assume Y assume that row j:\n",
    "# y_j = W*x_j + m + e_j, with\n",
    "# p(x_j) = N(x_j; 0, I)\n",
    "# p(e_j) = N(e_j; 0, v_yI)\n",
    "# p(m) = N(m; 0, v_mI)\n",
    "# p(W) = N(w_:k; 0, v_wkI)\n",
    "\n",
    "# if data is missing instead consider \n",
    "# y_ij = w_i^Tx_j + m_i + e_ij for all i,j in O\n",
    "# see paper for details on update rules \n",
    "\n",
    "# packages used\n",
    "import numpy as np\n",
    "import pandas as pd\n",
    "from numpy.random import randn\n",
    "from scipy.linalg import orth\n",
    "from numpy.linalg import inv, eig\n",
    "\n",
    "# read in the data\n",
    "df = pd.read_csv(r'PulotuCleaned.csv')\n",
    "dfAll = pd.read_csv(r'PulotuCurrent.csv')\n",
    "del dfAll['Culture ']\n",
    "del dfAll['Island_type']\n",
    "del dfAll['Pre-Austronesian_population']\n",
    "del dfAll['Distance_to_closest_landmass_inhabited_by_a_different_culture_(km)']\n",
    "del dfAll['Latitude']\n",
    "del dfAll['Longitude']\n",
    "del dfAll['Island_Size_(km²)']\n",
    "del dfAll['Distance_to_African_or_Asian_mainland_(km)_']\n",
    "del df['Number_of_islands_inhabited_by_culture']\n",
    "del df['Maximum_elevation_(meters)']\n",
    "\n",
    "names1 = np.array(dfAll.columns)\n",
    "names2 = np.array(df.columns)\n",
    "\n",
    "for j in range(0,len(names2)):\n",
    "    for k in range(0,len(names1)):\n",
    "        if names1[k] == names2[j]:\n",
    "            dfAll[names1[k]] = df[names2[j]]\n",
    "            break\n",
    "dfAll.values"
   ]
  },
  {
   "cell_type": "code",
   "execution_count": 2,
   "id": "6fed0a73-bcd5-421e-9078-0cfe5d478954",
   "metadata": {},
   "outputs": [],
   "source": [
    "def rmempty(X):\n",
    "        # removes totally empty columns (rows) from dta matrix X.  These columns and rows do not affect the found solution \n",
    "        data = X.copy()\n",
    "        n1x, n2x = data.shape\n",
    "        Ic = np.zeros([n2x,1])\n",
    "        Ir = np.zeros([n1x,1])\n",
    "        # for columns\n",
    "        for j in range(0,n2x):\n",
    "            miss = np.isnan(data[:,j])\n",
    "            idx = np.where(miss == False)\n",
    "            idx = idx[0]\n",
    "            Ic[j] = len(idx)\n",
    "        idxc = np.where(Ic > 0)\n",
    "        idxc = idxc[0]\n",
    "        data = data[:,idxc]\n",
    "        for i in range(0,n1x):\n",
    "            miss = np.isnan(data[i,:])\n",
    "            idx = np.where(miss == False)\n",
    "            idx = idx[0]\n",
    "            Ir[i] = len(idx)\n",
    "        idxr = np.where(Ir > 0)\n",
    "        idxr = idxr[0]\n",
    "        data = data[idxr,:]\n",
    "        return data"
   ]
  },
  {
   "cell_type": "code",
   "execution_count": 3,
   "id": "07b97617-877b-45ce-852e-28cce6901b4a",
   "metadata": {},
   "outputs": [],
   "source": [
    "def SubtractMu(Mu, X, M):\n",
    "    n2 = X.shape[1]\n",
    "    X = X - np.multiply(np.tile(Mu, (1, n2)),M)\n",
    "    return X"
   ]
  },
  {
   "cell_type": "code",
   "execution_count": 4,
   "id": "dcd691b5-0179-4f8a-bf21-d0d1c716af27",
   "metadata": {},
   "outputs": [],
   "source": [
    "def InitParams(n1, n2, ncomp, nobscomb):\n",
    "    # opts.init -> random\n",
    "    A = orth(randn(n1,ncomp))\n",
    "    Av = []\n",
    "    for i in range(0,n1):\n",
    "        Av.append(np.eye(ncomp))\n",
    "    Muv = np.ones([n1,1])\n",
    "    V = 1\n",
    "    S = randn(ncomp,n2)\n",
    "    Sv = []\n",
    "    for j in range(0,nobscomb):\n",
    "        Sv.append(np.eye(ncomp))\n",
    "    return A, S, V, Av, Sv, Muv\n",
    "    "
   ]
  },
  {
   "cell_type": "code",
   "execution_count": 9,
   "id": "62020edb-8c87-43cb-8d7d-410411995d45",
   "metadata": {},
   "outputs": [],
   "source": [
    "def compute_rms(X, A, S, M, ndata):\n",
    "    errMx = np.multiply((X - np.matmul(A,S)),M)\n",
    "    rms = np.sqrt(np.sum(errMx**2))/ndata\n",
    "    return rms, errMx\n",
    "    "
   ]
  },
  {
   "cell_type": "code",
   "execution_count": 6,
   "id": "35ade290-23f5-4ff5-9c7f-a139941bba21",
   "metadata": {},
   "outputs": [],
   "source": [
    "def RotateToPCA(A, Av, S, Sv):\n",
    "    n1 = A.shape[0]\n",
    "    n2 = S.shape[1]\n",
    "    mS = np.mean(S, axis=1)\n",
    "    mSS = np.zeros([S.shape[0],1])\n",
    "    for j in range(0,mSS.shape[0]):\n",
    "        mSS[j] = mS[j]\n",
    "    mS = mSS\n",
    "    dMu = np.matmul(A,mS)\n",
    "    S = S - np.tile(mS,(1,n2))\n",
    "    covS = np.cov(S)\n",
    "    for j in range(0,n2):\n",
    "        covS = covS + Sv[j]\n",
    "    D, VS = eig(covS)\n",
    "    D = np.diag(D)\n",
    "    RA = np.matmul(VS,np.sqrt(D))\n",
    "    A = np.matmul(A,RA)\n",
    "    covA = np.cov(A.T)\n",
    "    for i in range(0,n1):\n",
    "        Av[i] = np.matmul(np.matmul(RA.T,Av[i]),RA)\n",
    "        covA = covA + Av[i]\n",
    "    DA, VA = eig(covA)\n",
    "    A = np.matmul(A,VA)\n",
    "    for i in range(0,n1):\n",
    "        Av[i] = np.matmul(np.matmul(VA.T,Av[i]),VA)\n",
    "    R = np.matmul(np.matmul(VA.T,np.diag(1/np.diag(np.sqrt(D)))),VS.T)\n",
    "    S = np.matmul(R,S)\n",
    "    for j in range(0,len(Sv)):\n",
    "        Sv[j] = np.matmul(np.matmul(R,Sv[j]),R.T)\n",
    "    return dMu, A, Av, S, Sv\n",
    "    \n",
    "    \n",
    "    \n",
    "        \n",
    " "
   ]
  },
  {
   "cell_type": "code",
   "execution_count": 12,
   "id": "9fdf6617-d897-40b8-9193-a66e8f515ecf",
   "metadata": {},
   "outputs": [],
   "source": [
    "def pca_full(X, ncomp, maxiters):\n",
    "    use_prior = 1\n",
    "    use_postvar = 1\n",
    "    data = X.copy()\n",
    "    data = data.T\n",
    "    n1x, n2x = data.shape\n",
    "    # remove totally empty rows or columns\n",
    "    data = rmempty(data)\n",
    "    n1, n2 = data.shape\n",
    "    # create missing values matrix \n",
    "    M = np.isnan(data)\n",
    "    idxr, idxc = np.where(M == True)\n",
    "    idxr0, idxc0 = np.where(data == 0)\n",
    "    eps = np.finfo(float).eps\n",
    "    data[idxr0, idxc0] = eps\n",
    "    data[idxr, idxc] = 0\n",
    "    M2 = np.zeros(M.shape)\n",
    "    for i in range (0,M.shape[0]):\n",
    "        for j in range (0,M.shape[1]):\n",
    "            if M[i,j] == False:\n",
    "                M2[i,j] = 1\n",
    "    Nobs_i = np.zeros([n1,1])\n",
    "    for j in range(0,n1):\n",
    "        temp = M[j,:]\n",
    "        idx = np.where(temp == False)\n",
    "        idx = idx[0]\n",
    "        Nobs_i[j] = len(idx)\n",
    "    print(M[0,:].shape)\n",
    "    ndata = int(np.sum(Nobs_i))\n",
    "    earlystop = 0 # from opts in original code - come back to this \n",
    "    IX, JX = np.where(data == 0) # SOMETHING WRONG HERE, FIX IT\n",
    "    nobscomb = n2;\n",
    "    # initialize model \n",
    "    A, S, V, Av, Sv, Muv = InitParams(n1, n2, ncomp, nobscomb)\n",
    "    Va = 1000*np.ones([1,ncomp])\n",
    "    Vmu = 1000\n",
    "    Mu = np.zeros([n1,1])\n",
    "    # if don't want to include bias comment out for loop below\n",
    "    for j in range(0,n1):\n",
    "        temp = data[j,:]\n",
    "        Mu[j] = np.divide(np.sum(temp), Nobs_i[j])\n",
    "    data = SubtractMu(Mu, data, M2)\n",
    "    rms, errMx = compute_rms(data, A, S, M2, ndata)\n",
    "    print(\"rms : %f\" % (rms))\n",
    "    Aold = A\n",
    "    \n",
    "    # parameters of prior for variance params \n",
    "    hpVa = 0.001\n",
    "    hpVb = 0.001\n",
    "    hpV = 0.001\n",
    "    \n",
    "    for its in range(0,maxiters):\n",
    "        # burn in, prior is not updated at the beginning of learning to avoid killing sources\n",
    "        if its > 100:\n",
    "            # update Va, Vmu\n",
    "            Vmu = np.sum(Mu**2)+np.sum(Muv)\n",
    "            Vmu = (Vmu + 2*hpVa)/(n1+2*hpVb)\n",
    "            Va = np.sum(A**2,axis=0)\n",
    "            for i in range(0,n1):\n",
    "                Va = Va+np.diag(Av[i])\n",
    "            Va = (Va+2*hpVa)/(n1+2*hpVb)\n",
    "        \n",
    "        # update Mu\n",
    "        dMu = np.multiply(np.sum(errMx,axis=0),1/Nobs_i.T).T # something wrong here now need to fix \n",
    "        Muv = np.divide(V, Nobs_i + V/Vmu)\n",
    "        th = np.divide(1,1+np.divide(V,Nobs_i)/Vmu)\n",
    "        Mu_old = Mu\n",
    "        Mu = np.multiply(th,Mu+dMu)\n",
    "        dMu = Mu - Mu_old\n",
    "        data = SubtractMu(dMu, data, M2)\n",
    "        \n",
    "        # update S\n",
    "        for j in range(0,n2):\n",
    "            A_j = np.multiply(np.tile(M2[:,j],(ncomp,1)).T,A)\n",
    "            Psi = np.matmul(A_j.T,A_j) + V*np.eye(ncomp)\n",
    "            idx = np.where(M2[:,j] > 0)\n",
    "            idx = idx[0]\n",
    "            for i in range(0,len(idx)):\n",
    "                Psi = Psi + Av[idx[i]]\n",
    "            invPsi = inv(Psi)\n",
    "            S[:,j] = np.matmul(np.matmul(invPsi,A_j.T),data[:,j])\n",
    "            Sv[j] = V*invPsi\n",
    "        \n",
    "        # rotate to PCA\n",
    "        dMu, A, Av, S, Sv = RotateToPCA(A, Av, S, Sv)\n",
    "        data = SubtractMu(dMu, data, M2)\n",
    "        \n",
    "        # update A\n",
    "        for i in range(0,n1):\n",
    "            S_i = np.multiply(np.tile(M2[i,:],(ncomp,1)),S)\n",
    "            Phi = np.matmul(S_i,S_i.T) + np.diag(V/Va)\n",
    "            idx = np.where(M2[i,:] > 0)\n",
    "            idx = idx[0]\n",
    "            for j in range(0,len(idx)):\n",
    "                Phi = Phi + Sv[j]\n",
    "            invPhi = inv(Phi)\n",
    "            A[i,:] = np.matmul(np.matmul(data[i,:],S_i.T),invPhi)\n",
    "            Av[i] = V*invPhi\n",
    "        rms, errMx = compute_rms(data, A, S, M2, ndata)\n",
    "        \n",
    "        # update V\n",
    "        sXv = 0\n",
    "    return IX\n",
    "#         for r in range(0, ndata):\n",
    "#             sXv = sXv + np.matmul(np.matmul(A[IX[r],:],Sv[JX[r]]),A[IX[r],:].T)\n",
    "#             sXv = sXv + np.matmul(np.matmul(S[:,JX[r]].T,Av[IX[r]]),A[IX[r],:]) + np.sum(np.multiply(Sv[JX[r]],Av[IX[r]]))\n",
    "        \n",
    "        \n",
    "      \n",
    "    \n",
    "\n",
    "\n",
    "\n"
   ]
  },
  {
   "cell_type": "code",
   "execution_count": 13,
   "id": "7b9d3128-c017-4496-925b-2975c042d676",
   "metadata": {},
   "outputs": [
    {
     "name": "stdout",
     "output_type": "stream",
     "text": [
      "(116,)\n",
      "rms : 0.011199\n"
     ]
    },
    {
     "ename": "ValueError",
     "evalue": "operands could not be broadcast together with shapes (116,) (1,46) ",
     "output_type": "error",
     "traceback": [
      "\u001b[1;31m---------------------------------------------------------------------------\u001b[0m",
      "\u001b[1;31mValueError\u001b[0m                                Traceback (most recent call last)",
      "Input \u001b[1;32mIn [13]\u001b[0m, in \u001b[0;36m<cell line: 1>\u001b[1;34m()\u001b[0m\n\u001b[1;32m----> 1\u001b[0m IX \u001b[38;5;241m=\u001b[39m \u001b[43mpca_full\u001b[49m\u001b[43m(\u001b[49m\u001b[43mdfAll\u001b[49m\u001b[38;5;241;43m.\u001b[39;49m\u001b[43mvalues\u001b[49m\u001b[43m,\u001b[49m\u001b[38;5;241;43m2\u001b[39;49m\u001b[43m,\u001b[49m\u001b[38;5;241;43m110\u001b[39;49m\u001b[43m)\u001b[49m\n",
      "Input \u001b[1;32mIn [12]\u001b[0m, in \u001b[0;36mpca_full\u001b[1;34m(X, ncomp, maxiters)\u001b[0m\n\u001b[0;32m     61\u001b[0m     Va \u001b[38;5;241m=\u001b[39m (Va\u001b[38;5;241m+\u001b[39m\u001b[38;5;241m2\u001b[39m\u001b[38;5;241m*\u001b[39mhpVa)\u001b[38;5;241m/\u001b[39m(n1\u001b[38;5;241m+\u001b[39m\u001b[38;5;241m2\u001b[39m\u001b[38;5;241m*\u001b[39mhpVb)\n\u001b[0;32m     63\u001b[0m \u001b[38;5;66;03m# update Mu\u001b[39;00m\n\u001b[1;32m---> 64\u001b[0m dMu \u001b[38;5;241m=\u001b[39m \u001b[43mnp\u001b[49m\u001b[38;5;241;43m.\u001b[39;49m\u001b[43mmultiply\u001b[49m\u001b[43m(\u001b[49m\u001b[43mnp\u001b[49m\u001b[38;5;241;43m.\u001b[39;49m\u001b[43msum\u001b[49m\u001b[43m(\u001b[49m\u001b[43merrMx\u001b[49m\u001b[43m,\u001b[49m\u001b[43maxis\u001b[49m\u001b[38;5;241;43m=\u001b[39;49m\u001b[38;5;241;43m0\u001b[39;49m\u001b[43m)\u001b[49m\u001b[43m,\u001b[49m\u001b[38;5;241;43m1\u001b[39;49m\u001b[38;5;241;43m/\u001b[39;49m\u001b[43mNobs_i\u001b[49m\u001b[38;5;241;43m.\u001b[39;49m\u001b[43mT\u001b[49m\u001b[43m)\u001b[49m\u001b[38;5;241m.\u001b[39mT\n\u001b[0;32m     65\u001b[0m Muv \u001b[38;5;241m=\u001b[39m np\u001b[38;5;241m.\u001b[39mdivide(V, Nobs_i \u001b[38;5;241m+\u001b[39m V\u001b[38;5;241m/\u001b[39mVmu)\n\u001b[0;32m     66\u001b[0m th \u001b[38;5;241m=\u001b[39m np\u001b[38;5;241m.\u001b[39mdivide(\u001b[38;5;241m1\u001b[39m,\u001b[38;5;241m1\u001b[39m\u001b[38;5;241m+\u001b[39mnp\u001b[38;5;241m.\u001b[39mdivide(V,Nobs_i)\u001b[38;5;241m/\u001b[39mVmu)\n",
      "\u001b[1;31mValueError\u001b[0m: operands could not be broadcast together with shapes (116,) (1,46) "
     ]
    }
   ],
   "source": [
    "IX = pca_full(dfAll.values,2,110)"
   ]
  },
  {
   "cell_type": "code",
   "execution_count": null,
   "id": "eb4549e5-9c48-4ee9-921e-e7996cdd0396",
   "metadata": {},
   "outputs": [],
   "source": [
    "np.shape(IX)"
   ]
  },
  {
   "cell_type": "code",
   "execution_count": null,
   "id": "1c4c439f-0d51-4bf4-a4c2-0e53305f3c80",
   "metadata": {},
   "outputs": [],
   "source": [
    "R[0]\n",
    "\n",
    "RR = np.zeros([2,1])\n",
    "RR[0] = R[0]\n",
    "RR[1] = R[1]\n",
    "np.shape(np.matmul(RR.T,S))"
   ]
  },
  {
   "cell_type": "code",
   "execution_count": null,
   "id": "4eb00031-3fdb-43a3-970e-3d3b7176f1bc",
   "metadata": {},
   "outputs": [],
   "source": [
    "RR.T.shape"
   ]
  },
  {
   "cell_type": "code",
   "execution_count": null,
   "id": "6acdaee6-0f02-45a2-a570-a6064645d311",
   "metadata": {},
   "outputs": [],
   "source": [
    "S.shape"
   ]
  },
  {
   "cell_type": "code",
   "execution_count": null,
   "id": "3229e44e-979b-4f3d-b23a-24ab85c933c6",
   "metadata": {},
   "outputs": [],
   "source": []
  },
  {
   "cell_type": "code",
   "execution_count": null,
   "id": "da6d467e-96bb-47f7-8712-6c3ba9c3f4ab",
   "metadata": {},
   "outputs": [],
   "source": [
    "np.shape(dfAll.values[0,:])"
   ]
  },
  {
   "cell_type": "code",
   "execution_count": null,
   "id": "bed705b9-973f-4d81-be8c-bb8b2b736e81",
   "metadata": {},
   "outputs": [],
   "source": [
    "Nobs_i = np.zeros([M.shape[1],1])\n",
    "Mu = np.zeros([n1,1])\n",
    "print(Mu.shape)\n",
    "print(M.shape[1])\n",
    "for j in range(0,M.shape[1]):\n",
    "    temp = M[:,j]\n",
    "    idx = np.where(temp == False)\n",
    "    idx = idx[0]\n",
    "    Nobs_i[j] = len(idx)\n",
    "    \n",
    "for j in range(0,n1):\n",
    "        temp = data[j,:]\n",
    "        Mu[j] = np.sum(temp)/Nobs_i\n"
   ]
  },
  {
   "cell_type": "code",
   "execution_count": null,
   "id": "b8b07398-bbe1-474c-87e6-bc059dadff3d",
   "metadata": {},
   "outputs": [],
   "source": [
    "np.sum(temp)/Nobs_i"
   ]
  },
  {
   "cell_type": "code",
   "execution_count": null,
   "id": "d0cb7204-19f5-474c-956d-cbbfea81ea71",
   "metadata": {},
   "outputs": [],
   "source": [
    "ndata"
   ]
  },
  {
   "cell_type": "code",
   "execution_count": null,
   "id": "c2f0d88e-af47-4034-8b4c-dc0d17ae5405",
   "metadata": {},
   "outputs": [],
   "source": [
    "IX, IJ = np.where(dfAll.values == 0)"
   ]
  },
  {
   "cell_type": "code",
   "execution_count": null,
   "id": "f7e97ec7-7341-4cec-9d8e-80e46e003b1c",
   "metadata": {},
   "outputs": [],
   "source": [
    "np.sum(temp)\n"
   ]
  },
  {
   "cell_type": "code",
   "execution_count": null,
   "id": "d8fce78d-50d5-4c9a-ab82-860a09243e11",
   "metadata": {},
   "outputs": [],
   "source": [
    "rand.randn(3,5)"
   ]
  },
  {
   "cell_type": "code",
   "execution_count": null,
   "id": "802a01d7-a7a0-400f-965f-5dd9707d800d",
   "metadata": {},
   "outputs": [],
   "source": [
    "cell([1,5])"
   ]
  },
  {
   "cell_type": "code",
   "execution_count": null,
   "id": "cd4cd831-5ec5-4cae-8bef-91986658f3bd",
   "metadata": {},
   "outputs": [],
   "source": [
    "np.eye(3)"
   ]
  },
  {
   "cell_type": "code",
   "execution_count": null,
   "id": "76a24db0-caab-4323-a8d1-1aad56cb136a",
   "metadata": {},
   "outputs": [],
   "source": [
    "A, Av = InitParams(5, 10, 2, 2)"
   ]
  },
  {
   "cell_type": "code",
   "execution_count": null,
   "id": "d36bcb33-adbe-433d-b36b-ef70f7844efa",
   "metadata": {},
   "outputs": [],
   "source": [
    "A"
   ]
  },
  {
   "cell_type": "code",
   "execution_count": null,
   "id": "e79da31e-6500-4531-acbf-bff3bcd71ec7",
   "metadata": {},
   "outputs": [],
   "source": [
    "Av"
   ]
  },
  {
   "cell_type": "code",
   "execution_count": null,
   "id": "aec10ee3-4fdd-48d7-8bf2-8abe49e9f374",
   "metadata": {},
   "outputs": [],
   "source": [
    "Av[0]"
   ]
  },
  {
   "cell_type": "code",
   "execution_count": null,
   "id": "1ce9c966-9b30-4803-8214-be8c439b7be5",
   "metadata": {},
   "outputs": [],
   "source": [
    "rmempty(dfAll.values)"
   ]
  },
  {
   "cell_type": "code",
   "execution_count": null,
   "id": "f21a4033-aebe-4b08-a7bc-64c54b6e8776",
   "metadata": {},
   "outputs": [],
   "source": [
    "M2, A = pca_full(dfAll.values, 2,110)\n",
    "np.multiply(M2,A)"
   ]
  },
  {
   "cell_type": "code",
   "execution_count": null,
   "id": "ff29a0f0-4dd4-4014-ab2f-9bf9e9b3aec4",
   "metadata": {},
   "outputs": [],
   "source": [
    "Nobs_i = np.zeros([M.shape[1],1])\n",
    "for j in range(0,M.shape[1]):\n",
    "    temp = M[:,j]\n",
    "    idx = np.where(temp == False)\n",
    "    idx = idx[0]\n",
    "    Nobs_i[j] = len(idx)\n",
    "Nobs_i.shape"
   ]
  },
  {
   "cell_type": "code",
   "execution_count": null,
   "id": "68ddfabc-ec25-4a9f-8f3d-918786e6e31f",
   "metadata": {},
   "outputs": [],
   "source": [
    "np.sum(errMax)"
   ]
  },
  {
   "cell_type": "code",
   "execution_count": null,
   "id": "b4dffeba-00ef-4d03-ae5c-a1037b5a489d",
   "metadata": {},
   "outputs": [],
   "source": [
    "np.sum(errMax**2)"
   ]
  },
  {
   "cell_type": "code",
   "execution_count": null,
   "id": "f25851a7-6047-4e6f-9361-a1101b1f291f",
   "metadata": {},
   "outputs": [],
   "source": [
    "np.sum(np.sum(errMax**2,axis=0))"
   ]
  },
  {
   "cell_type": "code",
   "execution_count": null,
   "id": "8ee26c22-24af-411a-87af-93f11510e8f7",
   "metadata": {},
   "outputs": [],
   "source": [
    "pca_full(dfAll.values,2)"
   ]
  },
  {
   "cell_type": "code",
   "execution_count": null,
   "id": "a46317c7-8dd9-4cb3-bf05-167f15ad8f6c",
   "metadata": {},
   "outputs": [],
   "source": [
    "np.sum(A**2,axis=0)"
   ]
  },
  {
   "cell_type": "code",
   "execution_count": null,
   "id": "e76ca03e-74e8-48a9-ab53-ddb21adb7a56",
   "metadata": {},
   "outputs": [],
   "source": [
    "np.eye(2)"
   ]
  },
  {
   "cell_type": "code",
   "execution_count": null,
   "id": "86435f22-b8c1-488a-9d49-393ddecc98ea",
   "metadata": {},
   "outputs": [],
   "source": [
    "np.diag(np.eye(2))\n"
   ]
  },
  {
   "cell_type": "code",
   "execution_count": null,
   "id": "000eb36d-ff42-4566-86c8-4ae78aceb0a6",
   "metadata": {},
   "outputs": [],
   "source": [
    "np.sum(A**2,axis=0)+np.diag(np.eye(2))"
   ]
  },
  {
   "cell_type": "code",
   "execution_count": null,
   "id": "a3e204fa-9af7-4a2c-86ee-8aabdf455e88",
   "metadata": {},
   "outputs": [],
   "source": [
    "pca_full(dfAll.values,2,100)"
   ]
  },
  {
   "cell_type": "code",
   "execution_count": null,
   "id": "7da76951-84df-4fea-a1c5-53f59421c6b2",
   "metadata": {},
   "outputs": [],
   "source": [
    "np.shape(errMax)"
   ]
  },
  {
   "cell_type": "code",
   "execution_count": null,
   "id": "1b54ebe6-c2ea-45c6-8736-d925fad2e204",
   "metadata": {},
   "outputs": [],
   "source": [
    "np.shape(nobs_i)\n"
   ]
  },
  {
   "cell_type": "code",
   "execution_count": null,
   "id": "3b1f67ae-4518-411a-b032-5f23daa0f0dd",
   "metadata": {},
   "outputs": [],
   "source": [
    "np.shape(np.sum(errMax,axis=1))"
   ]
  },
  {
   "cell_type": "code",
   "execution_count": null,
   "id": "d6ee6ad9-65ad-49b5-ba09-ab89b9869886",
   "metadata": {},
   "outputs": [],
   "source": [
    " dMu = np.multiply(np.sum(errMax,axis=1),1/nobs_i.T).T"
   ]
  },
  {
   "cell_type": "code",
   "execution_count": null,
   "id": "3c474d59-3ab4-4937-a2a9-60a616b1472c",
   "metadata": {},
   "outputs": [],
   "source": [
    "np.shape(dMu)"
   ]
  },
  {
   "cell_type": "code",
   "execution_count": null,
   "id": "d94eb28c-54d2-437e-8fd0-5b97ba492b1b",
   "metadata": {},
   "outputs": [],
   "source": [
    "np.shape(Mu)"
   ]
  },
  {
   "cell_type": "code",
   "execution_count": null,
   "id": "cd019330-2a6d-4cce-884e-ddde5c1acfe3",
   "metadata": {},
   "outputs": [],
   "source": [
    "np.shape(dMu)"
   ]
  },
  {
   "cell_type": "code",
   "execution_count": null,
   "id": "b33db423-623e-492a-8620-d6cb93f79355",
   "metadata": {},
   "outputs": [],
   "source": [
    "1/nobs_i"
   ]
  },
  {
   "cell_type": "code",
   "execution_count": null,
   "id": "319b1e51-ef17-4e65-bafe-497d53d4df98",
   "metadata": {},
   "outputs": [],
   "source": [
    "dfAll.values.T.shape"
   ]
  },
  {
   "cell_type": "code",
   "execution_count": null,
   "id": "91eb0f3d-750a-47a7-a692-b2c1a41ecf70",
   "metadata": {},
   "outputs": [],
   "source": [
    "mS = np.mean(S,axis=1)\n",
    "#repmat(mS,1,n\n",
    "mS.shape"
   ]
  },
  {
   "cell_type": "code",
   "execution_count": null,
   "id": "0edc82ca-973f-4f53-a253-8070ac9eb125",
   "metadata": {},
   "outputs": [],
   "source": [
    "np.shape(np.matmul(A,mS))"
   ]
  },
  {
   "cell_type": "code",
   "execution_count": null,
   "id": "e8463bab-edd3-4a4e-bb06-22121591f2ec",
   "metadata": {},
   "outputs": [],
   "source": [
    "S.shape"
   ]
  },
  {
   "cell_type": "code",
   "execution_count": null,
   "id": "501c9477-df33-4dd0-8443-e39c9055222e",
   "metadata": {},
   "outputs": [],
   "source": [
    "np.shape(np.tile(mSS,(1,116)))"
   ]
  },
  {
   "cell_type": "code",
   "execution_count": null,
   "id": "eb0b0c40-8999-4cc1-88a0-48d687409da7",
   "metadata": {},
   "outputs": [],
   "source": [
    "np.shape(np.tile(mS.T,(2,116)))"
   ]
  },
  {
   "cell_type": "code",
   "execution_count": null,
   "id": "c8b3dc42-04e0-4472-8a2b-84f570e1ea75",
   "metadata": {},
   "outputs": [],
   "source": [
    "mS = mS.T"
   ]
  },
  {
   "cell_type": "code",
   "execution_count": null,
   "id": "3fd0dd0d-db20-4c5f-bd20-68db99cadf61",
   "metadata": {},
   "outputs": [],
   "source": [
    "mS[0]\n",
    "mS[1]\n",
    "\n",
    "mSS = np.zeros([S.shape[0],1])\n",
    "for j in range(0,mSS.shape[0]):\n",
    "    mSS[j] = mS[j]"
   ]
  },
  {
   "cell_type": "code",
   "execution_count": null,
   "id": "3f1d1f14-2db5-4378-8efe-b0e7732570f9",
   "metadata": {},
   "outputs": [],
   "source": [
    "mSS"
   ]
  },
  {
   "cell_type": "code",
   "execution_count": null,
   "id": "2caf1f50-4239-4b14-8f80-daa4823efc27",
   "metadata": {},
   "outputs": [],
   "source": [
    "S.shape[0]"
   ]
  },
  {
   "cell_type": "code",
   "execution_count": null,
   "id": "d400b248-183f-4d0c-a406-9c3d76c36274",
   "metadata": {},
   "outputs": [],
   "source": [
    "covS = np.cov(S)"
   ]
  },
  {
   "cell_type": "code",
   "execution_count": null,
   "id": "ba7d8689-6144-4a91-8106-b386104f8acd",
   "metadata": {},
   "outputs": [],
   "source": [
    "covS"
   ]
  },
  {
   "cell_type": "code",
   "execution_count": null,
   "id": "4981e578-750c-4121-bc5c-d0237914a83b",
   "metadata": {},
   "outputs": [],
   "source": [
    "VS, D = eig(covS)"
   ]
  },
  {
   "cell_type": "code",
   "execution_count": null,
   "id": "7e3b997f-7d92-4ac3-96f5-4fb7f6adbef2",
   "metadata": {},
   "outputs": [],
   "source": [
    "VS"
   ]
  },
  {
   "cell_type": "code",
   "execution_count": null,
   "id": "25c21dbb-e575-47f4-835c-4f75637a15d5",
   "metadata": {},
   "outputs": [],
   "source": [
    "D"
   ]
  },
  {
   "cell_type": "code",
   "execution_count": null,
   "id": "1ad7dba8-2668-4684-992f-83c04152406b",
   "metadata": {},
   "outputs": [],
   "source": [
    "D, VS = eig(covS)\n"
   ]
  },
  {
   "cell_type": "code",
   "execution_count": null,
   "id": "faf8e98f-3367-4e0d-abaf-f066dd990ae3",
   "metadata": {},
   "outputs": [],
   "source": [
    "D\n"
   ]
  },
  {
   "cell_type": "code",
   "execution_count": null,
   "id": "25d80a4d-0219-49c2-bc0a-e05ac89d470b",
   "metadata": {},
   "outputs": [],
   "source": [
    "VS"
   ]
  },
  {
   "cell_type": "code",
   "execution_count": null,
   "id": "2a37f7cb-6109-45a8-b07c-1065e14edc30",
   "metadata": {},
   "outputs": [],
   "source": [
    "D"
   ]
  },
  {
   "cell_type": "code",
   "execution_count": null,
   "id": "2efe74d2-8acf-4aa2-b9b5-a131ed6b1537",
   "metadata": {},
   "outputs": [],
   "source": [
    "D.T"
   ]
  },
  {
   "cell_type": "code",
   "execution_count": null,
   "id": "2a33a42b-de1b-412e-ac48-fdcc062b8ecd",
   "metadata": {},
   "outputs": [],
   "source": [
    "np.sqrt(np.diag(D))"
   ]
  },
  {
   "cell_type": "code",
   "execution_count": null,
   "id": "de7a9d46-09d3-421b-8d53-ac851db5f08f",
   "metadata": {},
   "outputs": [],
   "source": []
  }
 ],
 "metadata": {
  "kernelspec": {
   "display_name": "Python 3 (ipykernel)",
   "language": "python",
   "name": "python3"
  },
  "language_info": {
   "codemirror_mode": {
    "name": "ipython",
    "version": 3
   },
   "file_extension": ".py",
   "mimetype": "text/x-python",
   "name": "python",
   "nbconvert_exporter": "python",
   "pygments_lexer": "ipython3",
   "version": "3.9.12"
  }
 },
 "nbformat": 4,
 "nbformat_minor": 5
}
